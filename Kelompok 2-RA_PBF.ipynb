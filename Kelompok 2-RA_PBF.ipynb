{
  "nbformat": 4,
  "nbformat_minor": 0,
  "metadata": {
    "colab": {
      "provenance": []
    },
    "kernelspec": {
      "name": "python3",
      "display_name": "Python 3"
    },
    "language_info": {
      "name": "python"
    }
  },
  "cells": [
    {
      "cell_type": "code",
      "execution_count": null,
      "metadata": {
        "id": "JYVOVyHM4fP4",
        "outputId": "fe04abb4-f630-4ef7-ee3a-b5a866208dad",
        "colab": {
          "base_uri": "https://localhost:8080/"
        }
      },
      "outputs": [
        {
          "output_type": "stream",
          "name": "stdout",
          "text": [
            "Hasil nilai tukar Rp100000 ke USD adalah : $ 6.2\n",
            "Hasil nilai tukar $10 ke IDR adalah : Rp 162250\n"
          ]
        }
      ],
      "source": [
        "def memoize_currency_conversion():\n",
        "    cache = {}\n",
        "\n",
        "    def convert_currency(amount, from_currency, to_currency):\n",
        "        if (amount, from_currency, to_currency) not in cache:\n",
        "            converted_amount = amount * exchange_rate(from_currency, to_currency)\n",
        "            cache[(amount, from_currency, to_currency)] = converted_amount\n",
        "        return cache[(amount, from_currency, to_currency)]\n",
        "\n",
        "    def exchange_rate(from_currency, to_currency):\n",
        "        if from_currency == 'IDR' and to_currency == 'USD':\n",
        "            return 0.000062\n",
        "        elif from_currency == 'USD' and to_currency == 'IDR':\n",
        "            return 16225\n",
        "        else:\n",
        "            return 1.0\n",
        "\n",
        "    return convert_currency\n",
        "\n",
        "convert_currency = memoize_currency_conversion()\n",
        "print(f\"Hasil nilai tukar Rp100000 ke USD adalah : $\", convert_currency(100000, 'IDR', 'USD'))\n",
        "print(f\"Hasil nilai tukar $10 ke IDR adalah : Rp\", convert_currency(10, 'USD', 'IDR'))\n"
      ]
    }
  ]
}