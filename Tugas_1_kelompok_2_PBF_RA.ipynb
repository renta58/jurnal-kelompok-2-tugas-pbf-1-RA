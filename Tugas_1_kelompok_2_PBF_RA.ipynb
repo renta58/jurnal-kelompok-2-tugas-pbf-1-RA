{
  "nbformat": 4,
  "nbformat_minor": 0,
  "metadata": {
    "colab": {
      "provenance": [],
      "include_colab_link": true
    },
    "kernelspec": {
      "name": "python3",
      "display_name": "Python 3"
    },
    "language_info": {
      "name": "python"
    }
  },
  "cells": [
    {
      "cell_type": "markdown",
      "metadata": {
        "id": "view-in-github",
        "colab_type": "text"
      },
      "source": [
        "<a href=\"https://colab.research.google.com/github/renta58/jurnal-kelompok-2-tugas-pbf-1-RA/blob/master/Tugas_1_kelompok_2_PBF_RA.ipynb\" target=\"_parent\"><img src=\"https://colab.research.google.com/assets/colab-badge.svg\" alt=\"Open In Colab\"/></a>"
      ]
    },
    {
      "cell_type": "markdown",
      "source": [
        "Buatlah fungsi komposisi dengan nilai f(x)= 4^x, g(x)=x^x dan h(x)=3+x dengan pemrograman prosedural tiga fungsi dan pemrograman fungsionaL dengan lambda."
      ],
      "metadata": {
        "id": "ccH-MTiV8WBx"
      }
    },
    {
      "cell_type": "code",
      "execution_count": null,
      "metadata": {
        "colab": {
          "base_uri": "https://localhost:8080/"
        },
        "id": "sIUhVrfx8PTU",
        "outputId": "5b9f30e6-b20a-4255-c4cc-d09ef39b0f9c"
      },
      "outputs": [
        {
          "output_type": "stream",
          "name": "stdout",
          "text": [
            "Masukkan nilai x: 2\n",
            "Hasil komposisi adalah:  2738248761316017572742348936950010448551572158231779371511420498138539276297788309394191354517654433778305760249669055018654345038982960283040173260517312916290707801820674504366871632600804887963367337263522497825292336532140913808410030791539345419424032061850694542711196274001481398359789911818130649888463151791752429780547244641193312608638152999722631211840673827646616997262935164407810027909383249609045265422952174035491456768893888496923961830419221696465348280014055438553165447953246393547267908926735736893878246590624064523380774652728053757996417828938554196482295448971165496475437853387095634190399912509837356933670123261396478811191241421262493034193313021183420956181216717081868545513920021942580642796112558632389903266880666949210343989829365024474105599321362078321074638405091811240017997510533388875174033541343506776468179253992429037400216227010510981451940845736527038397421672469179155341784115474317896179501263356203326473302831475871635062518572068608761953174215709163510862454592893723775386427499438400294202336786154386609347634745375233076466505495806172092060594145963921181228307048477883816255817344716719634854129222601062360116788810639458446723330064225308353743906876465406644382408619382301724036817398756799298738170782278569658071633306237014715950374153723813558136622846483152909449741391381399776793638349889957165775278429275453407870615300019214044913567652886299492793737053811573216763858783936753122909415990826965860042906636995995036650971826579439450668265147929149343544753413556427163350892776854789102396987172517128962352485156201061670562094756205191570461642458688689506275096417062443317935980620073192797175444117282095687099957030761660644180614070821947348042170423675095783453097990299074095898225321797495260055964103872883081899874454355208544861277083817218702152903385728058864916087114646485217773956890624\n"
          ]
        }
      ],
      "source": [
        "# PEMROGRAMAN PROSEDURAL\n",
        "\n",
        "# Fungsi untuk f(x) = 4^x\n",
        "def f(x):\n",
        "  return 4**x\n",
        "\n",
        "# Fungsi untuk g(x)  = x^x\n",
        "def g(x):\n",
        "  return x**x\n",
        "\n",
        "# Fungsi untuk h(x) = 3+x\n",
        "def h(x):\n",
        "  return 3 + x\n",
        "\n",
        "# Fungsi komposisi\n",
        "def fkomp_prosedural(x):\n",
        "  return f(g(h(x)))\n",
        "\n",
        "# Contoh penggunaan\n",
        "nilai = int(input(\"Masukkan nilai x: \"))\n",
        "hasil_akhir = fkomp_prosedural(nilai)\n",
        "print(\"Hasil komposisi adalah: \", hasil_akhir)"
      ]
    },
    {
      "cell_type": "code",
      "source": [
        "# PEMROGRAMAN FUNGSI LAMBDA\n",
        "\n",
        "# Fungsi f(x) = 4^x\n",
        "f = lambda x: 4**x\n",
        "\n",
        "# Fungsi g(x) = x^x\n",
        "g = lambda x: x**x\n",
        "\n",
        "# Fungsi h(x) = 3 + x\n",
        "h = lambda x: 3 + x\n",
        "\n",
        "# Fungsi komposisi\n",
        "fkomp_lambda = lambda x: f(g(h(x)))\n",
        "\n",
        "# Contoh penggunaan\n",
        "hasil_lambda = fkomp_lambda(2)\n",
        "print(\"Hasil komposisi dengan lambda adalah:\", hasil_lambda)"
      ],
      "metadata": {
        "colab": {
          "base_uri": "https://localhost:8080/"
        },
        "id": "n18YPSSWHWkq",
        "outputId": "4f4924fd-55b8-48b8-c151-d089b65a69d5"
      },
      "execution_count": null,
      "outputs": [
        {
          "output_type": "stream",
          "name": "stdout",
          "text": [
            "Hasil komposisi dengan lambda adalah: 2738248761316017572742348936950010448551572158231779371511420498138539276297788309394191354517654433778305760249669055018654345038982960283040173260517312916290707801820674504366871632600804887963367337263522497825292336532140913808410030791539345419424032061850694542711196274001481398359789911818130649888463151791752429780547244641193312608638152999722631211840673827646616997262935164407810027909383249609045265422952174035491456768893888496923961830419221696465348280014055438553165447953246393547267908926735736893878246590624064523380774652728053757996417828938554196482295448971165496475437853387095634190399912509837356933670123261396478811191241421262493034193313021183420956181216717081868545513920021942580642796112558632389903266880666949210343989829365024474105599321362078321074638405091811240017997510533388875174033541343506776468179253992429037400216227010510981451940845736527038397421672469179155341784115474317896179501263356203326473302831475871635062518572068608761953174215709163510862454592893723775386427499438400294202336786154386609347634745375233076466505495806172092060594145963921181228307048477883816255817344716719634854129222601062360116788810639458446723330064225308353743906876465406644382408619382301724036817398756799298738170782278569658071633306237014715950374153723813558136622846483152909449741391381399776793638349889957165775278429275453407870615300019214044913567652886299492793737053811573216763858783936753122909415990826965860042906636995995036650971826579439450668265147929149343544753413556427163350892776854789102396987172517128962352485156201061670562094756205191570461642458688689506275096417062443317935980620073192797175444117282095687099957030761660644180614070821947348042170423675095783453097990299074095898225321797495260055964103872883081899874454355208544861277083817218702152903385728058864916087114646485217773956890624\n"
          ]
        }
      ]
    },
    {
      "cell_type": "markdown",
      "source": [
        "Buatlah pemrograman berbasis objek pada soal nomor 1."
      ],
      "metadata": {
        "id": "B5f8XSP1JnOH"
      }
    },
    {
      "cell_type": "code",
      "source": [
        "class Fungsi:\n",
        "  def __init__(self):\n",
        "    pass\n",
        "\n",
        "  def f(self, x):\n",
        "    return 4**x\n",
        "\n",
        "  def g(self, x):\n",
        "    return x**x\n",
        "\n",
        "  def h(self, x):\n",
        "    return 3 + x\n",
        "\n",
        "  def fkomp_objek(self, x):\n",
        "    return self.f(self.g(self.h(x)))\n",
        "\n",
        "# Contoh penggunaan\n",
        "fungsi_komposisi = Fungsi()\n",
        "hasil_objek = fungsi_komposisi.fkomp_objek(2)\n",
        "print(\"Hasil komposisi adalah: \", hasil_objek)"
      ],
      "metadata": {
        "colab": {
          "base_uri": "https://localhost:8080/"
        },
        "id": "J2Ak__yqJr_V",
        "outputId": "0aeb40f1-acf6-4a2a-b79a-c63f0766b6f0"
      },
      "execution_count": null,
      "outputs": [
        {
          "output_type": "stream",
          "name": "stdout",
          "text": [
            "Hasil komposisi adalah:  2738248761316017572742348936950010448551572158231779371511420498138539276297788309394191354517654433778305760249669055018654345038982960283040173260517312916290707801820674504366871632600804887963367337263522497825292336532140913808410030791539345419424032061850694542711196274001481398359789911818130649888463151791752429780547244641193312608638152999722631211840673827646616997262935164407810027909383249609045265422952174035491456768893888496923961830419221696465348280014055438553165447953246393547267908926735736893878246590624064523380774652728053757996417828938554196482295448971165496475437853387095634190399912509837356933670123261396478811191241421262493034193313021183420956181216717081868545513920021942580642796112558632389903266880666949210343989829365024474105599321362078321074638405091811240017997510533388875174033541343506776468179253992429037400216227010510981451940845736527038397421672469179155341784115474317896179501263356203326473302831475871635062518572068608761953174215709163510862454592893723775386427499438400294202336786154386609347634745375233076466505495806172092060594145963921181228307048477883816255817344716719634854129222601062360116788810639458446723330064225308353743906876465406644382408619382301724036817398756799298738170782278569658071633306237014715950374153723813558136622846483152909449741391381399776793638349889957165775278429275453407870615300019214044913567652886299492793737053811573216763858783936753122909415990826965860042906636995995036650971826579439450668265147929149343544753413556427163350892776854789102396987172517128962352485156201061670562094756205191570461642458688689506275096417062443317935980620073192797175444117282095687099957030761660644180614070821947348042170423675095783453097990299074095898225321797495260055964103872883081899874454355208544861277083817218702152903385728058864916087114646485217773956890624\n"
          ]
        }
      ]
    },
    {
      "cell_type": "markdown",
      "source": [
        "Berikan analisis komparasi 2 soal sebelumnya."
      ],
      "metadata": {
        "id": "WOKXN5JyKWk5"
      }
    },
    {
      "cell_type": "markdown",
      "source": [
        "Komparasi antara pendekatan prosedural dan fungsional dengan lambda:\n",
        "1. Pemrograman Prosedural:\n",
        "Pemrograman prosedural memiliki kelebihan di antaranya yaitu lebih mudah dipahami oleh pemula dikarenakan langkah-langkah pendekatan yang digunakan mirip dengan langkah-langkah manusia, dan fungsi yang diberikan tepisah, memudahkan pemeliharaan dan pemecahan suatu masalah. Terdapat juga kekurangan dari prosedur ini yaitu kode yang diperlukan lebih banyak dan lebih panjang dibandingkan pendekatan fungsional dan lebih kompleks.\n",
        "2. Pemrograman Fungsional dengan Lambda:\n",
        "Pemrograman ini juga memiliki kelebihannya yaitu kode yang digunakan lebih singkat dan ringkas,  menggunakan fungsi sederhana yaitu lambda dan konsep komposisi dapat diekspresikan secara langsung\n",
        "Sedangkan terdapat juga kekurangan dari pemrograman ini yaitu masih sulit dipahami oleh orang yang kurang memahami konsep lambda dan kurang eksplisit dalam pemisahan fungsi.\n",
        "PBO:\n",
        "kelebihan yang diberikan dari PBO ini adalah terdapat pemisahan fungsi sebuah kelas untuk meningkatkan pemeliharaan dan keterbacaan serta kekurangannya yaitu memerlukan lebih banyak kode  dibandingkan pendekatan fungsional\n",
        "\n",
        "Secara menyeluruh, kesimpulan yang dapat diambil adalah Pendekatan fungsional dengan lambda cenderung lebih ringkas dibandingkan PBO. PBO lebih sesuai digunakan untuk proyek yang memerlukan pemodelan lebih kompleks dan menjaga state internal."
      ],
      "metadata": {
        "id": "sGE1Kz7rKa9Z"
      }
    },
    {
      "cell_type": "markdown",
      "source": [
        "Buatlah 1 penyelesaian luas segitiga dengan menggunakan pemrograman berorientasi objek dan pemrograman berbasis fungsi. Uji dengan membandingkan mana yang tercepat komputasinya."
      ],
      "metadata": {
        "id": "ZSFuD-zDKdBX"
      }
    },
    {
      "cell_type": "code",
      "source": [
        "# Hitung luas berbasis OOP\n",
        "\n",
        "class SegitigaOOP:\n",
        "  def __init__(self, alas, tinggi):\n",
        "    self.alas = alas\n",
        "    self.tinggi = tinggi\n",
        "\n",
        "  def luas(self):\n",
        "    return 0.5 * self.alas * self.tinggi\n",
        "\n",
        "# Contoh penggunaan\n",
        "segitiga_oop = SegitigaOOP(6, 7)\n",
        "luas_oop = segitiga_oop.luas()\n",
        "print(\"Luas segitiga yaitu: \", luas_oop)"
      ],
      "metadata": {
        "colab": {
          "base_uri": "https://localhost:8080/"
        },
        "id": "o2Iho-7QKogK",
        "outputId": "617372fb-1bfc-4a4c-b019-5748651ce7cb"
      },
      "execution_count": null,
      "outputs": [
        {
          "output_type": "stream",
          "name": "stdout",
          "text": [
            "Luas segitiga yaitu:  21.0\n"
          ]
        }
      ]
    },
    {
      "cell_type": "code",
      "source": [
        "# Hitung luas berbasis fungsi\n",
        "\n",
        "def hitung_luas(alas, tinggi):\n",
        "  return 0.5 * alas * tinggi\n",
        "\n",
        "# Contoh penggunaan\n",
        "luas_fungsi = hitung_luas(6, 7)\n",
        "print(\"Luas segitiga yaitu: \", luas_fungsi)"
      ],
      "metadata": {
        "colab": {
          "base_uri": "https://localhost:8080/"
        },
        "id": "1GquLkntLRNk",
        "outputId": "036255ff-da16-494e-81f0-d0fab1bbb4cb"
      },
      "execution_count": null,
      "outputs": [
        {
          "output_type": "stream",
          "name": "stdout",
          "text": [
            "Luas segitiga yaitu:  21.0\n"
          ]
        }
      ]
    },
    {
      "cell_type": "code",
      "source": [
        "import timeit\n",
        "\n",
        "# Pengujian berbasis objek\n",
        "time_oop = timeit.timeit(\"segitiga_oop.luas()\", setup=\"from __main__ import SegitigaOOP; segitiga_oop = SegitigaOOP(6, 7)\", number = 1000000)\n",
        "\n",
        "# Pengujian berbasis fungsi\n",
        "time_fungsi = timeit.timeit(\"hitung_luas(6, 7)\", setup=\"from __main__ import hitung_luas\", number = 1000000)\n",
        "\n",
        "# Hasil pengujian\n",
        "print(\"Waktu eksekusi berbasis objek:\", time_oop)\n",
        "print(\"Waktu eksekusi berbasis funngsi:\", time_fungsi)"
      ],
      "metadata": {
        "colab": {
          "base_uri": "https://localhost:8080/"
        },
        "id": "AGbBnYCKLuSK",
        "outputId": "cc059d27-26c5-4443-d40b-40bce14202e7"
      },
      "execution_count": null,
      "outputs": [
        {
          "output_type": "stream",
          "name": "stdout",
          "text": [
            "Waktu eksekusi berbasis objek: 0.17809418100000585\n",
            "Waktu eksekusi berbasis funngsi: 0.14614769899992552\n"
          ]
        }
      ]
    },
    {
      "cell_type": "markdown",
      "source": [
        "Berdasarkan waktu eksekusi, perhitungan berbasis fungsi lebih cepat 0,03 s dibanding perhitungan berbasis objek"
      ],
      "metadata": {
        "id": "I4334LXQMoMc"
      }
    },
    {
      "cell_type": "markdown",
      "source": [
        "Buatlah prosedural programming dari persoalan di atas dan ubahlah dengan functional programming.\n",
        "lakukan dengan batas toleransi . dengan fungsi yang diberikan sebagai berikut: dan nilai a dan\n",
        "b adalah di antara 0 dan 1 (nilai antara tidak boleh 0 dan 1)"
      ],
      "metadata": {
        "id": "UZNiBki8KgfP"
      }
    },
    {
      "cell_type": "code",
      "source": [
        "def f(x):\n",
        "    return x-2**-x\n",
        "# fungsi bisevtion\n",
        "def bisection(x0,x1,e):\n",
        "    step = 1\n",
        "    print('\\n\\n*** BISECTION METHOD IMPLEMENTATION ***')\n",
        "    condition = True\n",
        "    while condition:\n",
        "        x2 = (x0 + x1)/2\n",
        "        print('Iteration-%d, x2 = %0.6f and f(x2) = %0.6f' % (step, x2, f(x2)))\n",
        "        if f(x0) * f(x2) < 0:\n",
        "            x1 = x2\n",
        "        else:\n",
        "            x0 = x2\n",
        "\n",
        "        step = step + 1\n",
        "        condition = abs(f(x2)) > e\n",
        "    print('\\nRequired Root is : %0.8f' % x2)\n",
        "\n",
        "# inout nilai x0 dan x1\n",
        "x0 = 0.01\n",
        "x1 = 1\n",
        "e = 1e-5\n",
        "\n",
        "if f(x0) * f(x1) > 0.0:\n",
        "    print('Given guess values do not bracket the root.')\n",
        "    print('Try Again with different guess values.')\n",
        "else:\n",
        "    bisection(x0,x1,e)"
      ],
      "metadata": {
        "colab": {
          "base_uri": "https://localhost:8080/"
        },
        "id": "wo91DqknKexF",
        "outputId": "1d911cb8-0710-4379-c0b6-ec096d16a3c9"
      },
      "execution_count": null,
      "outputs": [
        {
          "output_type": "stream",
          "name": "stdout",
          "text": [
            "\n",
            "\n",
            "*** BISECTION METHOD IMPLEMENTATION ***\n",
            "Iteration-1, x2 = 0.505000 and f(x2) = -0.199660\n",
            "Iteration-2, x2 = 0.752500 and f(x2) = 0.158926\n",
            "Iteration-3, x2 = 0.628750 and f(x2) = -0.017987\n",
            "Iteration-4, x2 = 0.690625 and f(x2) = 0.071040\n",
            "Iteration-5, x2 = 0.659687 and f(x2) = 0.026672\n",
            "Iteration-6, x2 = 0.644219 and f(x2) = 0.004380\n",
            "Iteration-7, x2 = 0.636484 and f(x2) = -0.006794\n",
            "Iteration-8, x2 = 0.640352 and f(x2) = -0.001205\n",
            "Iteration-9, x2 = 0.642285 and f(x2) = 0.001588\n",
            "Iteration-10, x2 = 0.641318 and f(x2) = 0.000192\n",
            "Iteration-11, x2 = 0.640835 and f(x2) = -0.000507\n",
            "Iteration-12, x2 = 0.641077 and f(x2) = -0.000158\n",
            "Iteration-13, x2 = 0.641198 and f(x2) = 0.000017\n",
            "Iteration-14, x2 = 0.641137 and f(x2) = -0.000070\n",
            "Iteration-15, x2 = 0.641167 and f(x2) = -0.000027\n",
            "Iteration-16, x2 = 0.641182 and f(x2) = -0.000005\n",
            "\n",
            "Required Root is : 0.64118240\n"
          ]
        }
      ]
    },
    {
      "cell_type": "code",
      "source": [
        "print('\\tBISECTION METHOD')\n",
        "a=0\n",
        "b=3\n",
        "for i in range(8):\n",
        "  print('------------Iteration',i+1,'--------------------------')\n",
        "  print()\n",
        "  print('a= ', a)\n",
        "  print('b= ', b)\n",
        "  x = (a + b) / 2\n",
        "  print('x= ', x)\n",
        "  fa = 2*a - 5# Give the function here.\n",
        "  print('fa= ', fa)\n",
        "  fb = 2*b - 5# Give the function here.\n",
        "  print('fb= ', fb)\n",
        "  fx = 2*x - 5# Give the function here.\n",
        "  print('fx= ', fx)\n",
        "  print()\n",
        "  if (fa < 0 and fx < 0) or (fa > 0 and fx > 0):\n",
        "    a = x\n",
        "  else:\n",
        "    b = x"
      ],
      "metadata": {
        "colab": {
          "base_uri": "https://localhost:8080/"
        },
        "id": "QI_hM8IoKs2c",
        "outputId": "d9d751b6-597f-4bda-fb32-66c19c0b8367"
      },
      "execution_count": null,
      "outputs": [
        {
          "output_type": "stream",
          "name": "stdout",
          "text": [
            "\tBISECTION METHOD\n",
            "------------Iteration 1 --------------------------\n",
            "\n",
            "a=  0\n",
            "b=  3\n",
            "x=  1.5\n",
            "fa=  -5\n",
            "fb=  1\n",
            "fx=  -2.0\n",
            "\n",
            "------------Iteration 2 --------------------------\n",
            "\n",
            "a=  1.5\n",
            "b=  3\n",
            "x=  2.25\n",
            "fa=  -2.0\n",
            "fb=  1\n",
            "fx=  -0.5\n",
            "\n",
            "------------Iteration 3 --------------------------\n",
            "\n",
            "a=  2.25\n",
            "b=  3\n",
            "x=  2.625\n",
            "fa=  -0.5\n",
            "fb=  1\n",
            "fx=  0.25\n",
            "\n",
            "------------Iteration 4 --------------------------\n",
            "\n",
            "a=  2.25\n",
            "b=  2.625\n",
            "x=  2.4375\n",
            "fa=  -0.5\n",
            "fb=  0.25\n",
            "fx=  -0.125\n",
            "\n",
            "------------Iteration 5 --------------------------\n",
            "\n",
            "a=  2.4375\n",
            "b=  2.625\n",
            "x=  2.53125\n",
            "fa=  -0.125\n",
            "fb=  0.25\n",
            "fx=  0.0625\n",
            "\n",
            "------------Iteration 6 --------------------------\n",
            "\n",
            "a=  2.4375\n",
            "b=  2.53125\n",
            "x=  2.484375\n",
            "fa=  -0.125\n",
            "fb=  0.0625\n",
            "fx=  -0.03125\n",
            "\n",
            "------------Iteration 7 --------------------------\n",
            "\n",
            "a=  2.484375\n",
            "b=  2.53125\n",
            "x=  2.5078125\n",
            "fa=  -0.03125\n",
            "fb=  0.0625\n",
            "fx=  0.015625\n",
            "\n",
            "------------Iteration 8 --------------------------\n",
            "\n",
            "a=  2.484375\n",
            "b=  2.5078125\n",
            "x=  2.49609375\n",
            "fa=  -0.03125\n",
            "fb=  0.015625\n",
            "fx=  -0.0078125\n",
            "\n"
          ]
        }
      ]
    }
  ]
}